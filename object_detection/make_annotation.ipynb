{
 "cells": [
  {
   "cell_type": "markdown",
   "metadata": {},
   "source": [
    "# Annotation 만들기(open, write, close)\n",
    "> keras-yolo 에서 필요한 annotation을 .txt 파일로 만드는 코드에 대해서 작성한다."
   ]
  },
  {
   "cell_type": "markdown",
   "metadata": {},
   "source": [
    "## 코드 작성"
   ]
  },
  {
   "cell_type": "code",
   "execution_count": 74,
   "metadata": {
    "scrolled": true
   },
   "outputs": [],
   "source": [
    "import os\n",
    "\n",
    "\n",
    "for p,d,files in os.walk('./'):\n",
    "    num_of_files = len(files)\n",
    "    k = 0\n",
    "    annotation_files = [file for file in files if file[-4:]=='.txt']\n",
    "    z = open('test.txt', 'w', encoding='utf-8')                           # 원하는 파일 생성 코드\n",
    "    num_of_files = len(annotation_files)   \n",
    "    for file in annotation_files:\n",
    "        with open(os.path.join('./',file), encoding='utf-8') as f:\n",
    "            one_line = file[:] + ' '                                \n",
    "            for line in f:\n",
    "                tmp = line.strip().split()\n",
    "                s =','.join(tmp[1:]) + ',' + tmp[0] + ' '\n",
    "                one_line += s\n",
    "            k += 1\n",
    "            if num_of_files == k:                                         \n",
    "                z.write(one_line.strip())\n",
    "            else:\n",
    "                z.write(one_line.strip() + '\\n')           \n",
    "z.close()                                                                 # 원하는 파일 저장"
   ]
  },
  {
   "cell_type": "markdown",
   "metadata": {},
   "source": [
    "* `z = open('test.txt', 'w', encoding='utf-8')` : annotation이 될 file을 쓰기 모드로 생성한다.\n",
    "* `if num_of_files == k:` : 마지막 줄에는 `\\n` 안생기도록 조건 걸어준다."
   ]
  },
  {
   "cell_type": "markdown",
   "metadata": {},
   "source": [
    "## .txt 파일 확인"
   ]
  },
  {
   "cell_type": "code",
   "execution_count": 75,
   "metadata": {
    "scrolled": true
   },
   "outputs": [
    {
     "name": "stdout",
     "output_type": "stream",
     "text": [
      "untitled-Copy1.txt 0.579225,0.305085,0.257042,0.42937,1 0.410211,0.505650,0.165493,0.254237,2 0.579225,0.305085,0.257042,0.42937,5 0.579225,0.305085,0.257042,0.42937,4 0.410211,0.505650,0.165493,0.254237,2\n",
      "untitled-Copy2.txt 0.579225,0.305085,0.257042,0.42937,3 0.410211,0.505650,0.165493,0.254237,2 0.579225,0.305085,0.257042,0.42937,0 0.579225,0.305085,0.257042,0.42937,2 0.410211,0.505650,0.165493,0.254237,2\n",
      "untitled.txt 0.579225,0.305085,0.257042,0.42937,0 0.410211,0.505650,0.165493,0.254237,2 0.579225,0.305085,0.257042,0.42937,3 0.579225,0.305085,0.257042,0.42937,1 0.410211,0.505650,0.165493,0.254237,2\n"
     ]
    }
   ],
   "source": [
    "with open('test.txt', 'r', encoding='utf-8') as f :\n",
    "    for line in f:\n",
    "        print(line.strip())"
   ]
  }
 ],
 "metadata": {
  "kernelspec": {
   "display_name": "Python [conda env:data_env] *",
   "language": "python",
   "name": "conda-env-data_env-py"
  },
  "language_info": {
   "codemirror_mode": {
    "name": "ipython",
    "version": 3
   },
   "file_extension": ".py",
   "mimetype": "text/x-python",
   "name": "python",
   "nbconvert_exporter": "python",
   "pygments_lexer": "ipython3",
   "version": "3.7.7"
  }
 },
 "nbformat": 4,
 "nbformat_minor": 4
}
